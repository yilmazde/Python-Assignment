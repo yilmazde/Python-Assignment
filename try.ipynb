{
  "nbformat": 4,
  "nbformat_minor": 0,
  "metadata": {
    "colab": {
      "provenance": [],
      "authorship_tag": "ABX9TyO+tDSdQdeWbtftvH6IZWIR",
      "include_colab_link": true
    },
    "kernelspec": {
      "name": "python3",
      "display_name": "Python 3"
    },
    "language_info": {
      "name": "python"
    }
  },
  "cells": [
    {
      "cell_type": "markdown",
      "metadata": {
        "id": "view-in-github",
        "colab_type": "text"
      },
      "source": [
        "<a href=\"https://colab.research.google.com/github/yilmazde/Python-Assignment/blob/master/try.ipynb\" target=\"_parent\"><img src=\"https://colab.research.google.com/assets/colab-badge.svg\" alt=\"Open In Colab\"/></a>"
      ]
    },
    {
      "cell_type": "code",
      "execution_count": null,
      "metadata": {
        "colab": {
          "base_uri": "https://localhost:8080/"
        },
        "id": "xkj8xzfkPYvb",
        "outputId": "a593ef30-57ba-46d2-e77a-aa51f1204452"
      },
      "outputs": [
        {
          "output_type": "stream",
          "name": "stdout",
          "text": [
            "hi\n",
            "/content\n"
          ]
        }
      ],
      "source": [
        "print(\"hi\")#\n",
        "import os\n",
        "print(os.getcwd())\n"
      ]
    },
    {
      "cell_type": "code",
      "source": [],
      "metadata": {
        "id": "ohk0qBqxRjuc"
      },
      "execution_count": null,
      "outputs": []
    },
    {
      "cell_type": "markdown",
      "source": [],
      "metadata": {
        "id": "PAdyKLwlRkPf"
      }
    },
    {
      "cell_type": "markdown",
      "source": [
        "# HEllo "
      ],
      "metadata": {
        "id": "-bg0SCKERsWk"
      }
    },
    {
      "cell_type": "code",
      "source": [
        "os.listdir()\n"
      ],
      "metadata": {
        "colab": {
          "base_uri": "https://localhost:8080/"
        },
        "id": "nXhecCT0QKkj",
        "outputId": "43fca24c-df25-4aad-aea3-d2f0f0007780"
      },
      "execution_count": 7,
      "outputs": [
        {
          "output_type": "execute_result",
          "data": {
            "text/plain": [
              "['.config', 'Deniz_Yilmaz.JPG', 'sample_data']"
            ]
          },
          "metadata": {},
          "execution_count": 7
        }
      ]
    },
    {
      "cell_type": "code",
      "source": [],
      "metadata": {
        "id": "jpr2d8IAPd-S"
      },
      "execution_count": null,
      "outputs": []
    }
  ]
}