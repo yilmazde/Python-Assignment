{
 "cells": [
  {
   "cell_type": "markdown",
   "metadata": {},
   "source": [
    "# Data Analysis: BUGS\n",
    "\n",
    "*Mind and Brain: Introduction to Python,\n",
    "Winter Semester 2019/2020 Final programming assignment,\n",
    "Author: Deniz Yilmaz*\n",
    "\n",
    "\n",
    "## A. Project Description\n",
    "\n",
    "### The Bugs Experiment\n",
    "\n",
    "The experiment is explained in the guideline as follows: A somewhat silly psychology experiment conducted in 2013 measured subjects’ reactions to pictures of bugs. \n",
    "Independent raters had deemed the bugs to be either **disgusting or non-disgusting**, \n",
    "and either **frightening or non-frightening**. \n",
    "The subjects had to rate how much they **wanted to kill** each bug, on a scale from 1 to 10. \n",
    "That means, there are 2 Predictor Variables (PV): *Disgust, Fear* and a Outcome Variable (OV): *KillRating*\n",
    "\n",
    "### In This Notebook\n",
    "\n",
    "I will display the Python program I wrote, which produces an analysis of these data. \n",
    "This program includes:\n",
    "\n",
    "    1. Summary statistics of the kill ratings for each type of bug: \n",
    "        ◦ minimum\n",
    "        ◦ maximum\n",
    "        ◦ median\n",
    "        ◦ mean\n",
    "        ◦ Standard Deviation\n",
    "\n",
    "    2. The results of a linear model with kill rating as the outcome variable and the categories of bug as the predictor variables.\n",
    "\n",
    "    3. Boxplots with overlaid points showing the distribution of kill ratings for each category of bug. \n",
    "\n",
    "### Source Information\n",
    "\n",
    "*Source for learning Jupyter:* https://www.youtube.com/watch?v=HW29067qVWk\n",
    "\n",
    "*More about the bugs experiment:* https://doi.org/10.1016/j.chb.2013.01.024\n",
    "\n",
    "***Obtain a csv file of the data from the experiment:***\n",
    "\n",
    "https://raw.githubusercontent.com/luketudge/stats-tutorials/master/tutorials/data/bugs.csv \n",
    "\n",
    "I will indicate each source I have used for this program by putting \"*Source:*\", right above the related part throughout this notebook.\n",
    "\n",
    "If no source had been indicated, related information can most likely be found on the GitHub page by Luke Tudge, luketudge/introduction-to-programming: https://github.com/luketudge/introduction-to-programming/blob/b1010a12602bde5be5184e55190528c219ee7dac/content/data_analysis.ipynb\n",
    "\n"
   ]
  },
  {
   "cell_type": "markdown",
   "metadata": {},
   "source": [
    "## B. My Data Analysis Steps\n",
    "\n",
    "### 0. First things first\n",
    "\n",
    "I will first import the necessary modules for my project.\n"
   ]
  },
  {
   "cell_type": "code",
   "execution_count": 67,
   "metadata": {},
   "outputs": [],
   "source": [
    "import os\n",
    "\n",
    "import pandas\n",
    "\n",
    "import statistics\n",
    "\n",
    "import statsmodels.formula.api as smf\n",
    "\n",
    "from matplotlib import pyplot as plt\n",
    "\n",
    "import seaborn\n",
    "\n",
    "from patsy import PatsyError"
   ]
  },
  {
   "cell_type": "markdown",
   "metadata": {},
   "source": [
    "We need our raw data to be read by the program, so that we can work on it.\n",
    "You can obtain the data from the link I provided above under the section \"Source Information\". In order to use the script as provided, you should make sure that \"bugs.csv\" file is located in your current working directory (cwd). \n",
    "If the csv file is not in your cwd, an error will be raised that instructs you to check your cwd by entering \"%pwd\".  DF here will stand for data frame. Let's now reach and display the data.\n",
    "\n",
    "*Source:* https://stackoverflow.com/questions/15680463/change-ipython-jupyter-notebook-working-directory"
   ]
  },
  {
   "cell_type": "code",
   "execution_count": 71,
   "metadata": {},
   "outputs": [
    {
     "name": "stdout",
     "output_type": "stream",
     "text": [
      "     Subject     Sex Disgust  Fear  KillRating\n",
      "0          1  Female     low   low         6.0\n",
      "1          3  Female     low   low         5.0\n",
      "2          4  Female     low   low         6.0\n",
      "3          5  Female     low   low         3.0\n",
      "4          6  Female     low   low         2.0\n",
      "..       ...     ...     ...   ...         ...\n",
      "343       96    Male    high  high        10.0\n",
      "344       97  Female    high  high        10.0\n",
      "345       98  Female    high  high        10.0\n",
      "346       99  Female    high  high        10.0\n",
      "347      100  Female    high  high         3.0\n",
      "\n",
      "[348 rows x 5 columns]\n"
     ]
    }
   ],
   "source": [
    "try:\n",
    "    \n",
    "    filepath = os.path.join('bugs.csv')\n",
    "\n",
    "    DF = pandas.read_csv(filepath)\n",
    "\n",
    "    print(DF)\n",
    "    \n",
    "except FileNotFoundError :\n",
    "    \n",
    "    raise FileNotFoundError (\"Please make sure the that the csv file is located in your current working directory. To find out which directory you are currently working on enter the following: %pwd\")\n",
    "    \n"
   ]
  },
  {
   "cell_type": "markdown",
   "metadata": {},
   "source": [
    "As you can see, the dataset is relatively big, therefore only the first and last bit gets to be displayed. However, this is alright, as our variable columns and number of participants seem to be as expected. "
   ]
  },
  {
   "cell_type": "markdown",
   "metadata": {},
   "source": [
    "For the sake of flexibility of the program, I will assign the specific features of this dataframe into variables. When worked with another set of data or when made changes in the variable names, the program can be quickly adjusted. <br /> For example, if we collect Size data for the bugs and are interested in Disgust and Size as predictor variables instead of Disgust and Fear, PV2 should be reassigned this way: PV2 = \"Size\".  <br /> Please assign the appropriate string values to the PV1 (Predictor Variable 1), PV2 (Predictor Variable 2), and OV (Outcome Variable)."
   ]
  },
  {
   "cell_type": "code",
   "execution_count": 47,
   "metadata": {},
   "outputs": [],
   "source": [
    "PV1 = \"Disgust\"\n",
    "\n",
    "PV2 = \"Fear\"\n",
    "\n",
    "OV = \"KillRating\""
   ]
  },
  {
   "cell_type": "markdown",
   "metadata": {},
   "source": [
    "### 1.  Summary Statistics of Kill Ratings\n",
    "\n"
   ]
  },
  {
   "cell_type": "markdown",
   "metadata": {},
   "source": [
    "Here, I will first define a list that includes all the summary statistics I want to calculate, so that I can create a table including each of the relevant statistics. Minimum and Maximum exist as default statistics in Python but I retreived the others from the statistics module I have imported at the beginning. "
   ]
  },
  {
   "cell_type": "code",
   "execution_count": 14,
   "metadata": {},
   "outputs": [],
   "source": [
    "summary_stats = [min, statistics.median, statistics.mean, statistics.stdev, max]"
   ]
  },
  {
   "cell_type": "markdown",
   "metadata": {},
   "source": [
    "The instructions specify that I should calculate the statistics for each group individually. That is to say\n",
    ", I need a table that specifies the  OV (**KillRating**)'s summary statistics for the *HighDisgustHighFear, HighDisgustLowFear, LowDisgustHighFear, LowDisgustLowFear* subgroups. Therefore, I will group the data according to the two PV's and then print the summary statistics (of the OV: KillRating), not of the initial raw data, but of the grouped data.\n",
    "\n",
    "*Source:* https://pandas.pydata.org/pandas-docs/stable/user_guide/groupby.html\n",
    "\n"
   ]
  },
  {
   "cell_type": "code",
   "execution_count": 34,
   "metadata": {},
   "outputs": [
    {
     "name": "stdout",
     "output_type": "stream",
     "text": [
      "              min  median      mean     stdev   max\n",
      "Disgust Fear                                       \n",
      "high    high  0.0     8.5  7.804598  2.495760  10.0\n",
      "        low   0.0     7.5  6.660920  3.151683  10.0\n",
      "low     high  0.5     8.0  7.339080  2.551213  10.0\n",
      "        low   0.0     6.0  5.632184  2.680094  10.0\n"
     ]
    }
   ],
   "source": [
    "grouped_DF = DF.groupby([PV1, PV2])\n",
    "\n",
    "print((grouped_DF[OV]).aggregate(summary_stats))"
   ]
  },
  {
   "cell_type": "markdown",
   "metadata": {},
   "source": [
    "As we would expect, the highest desire to kill seems to be for the condition when the bug was found to be both highly disgusting and fear inducing. Along the same line, the lowest mean KillRating is for *LowDisgustLowFear* bugs. We cannot, however, be sure whether this trend indicates a statistically significant relationship without further testing. Let's now check that."
   ]
  },
  {
   "cell_type": "markdown",
   "metadata": {},
   "source": [
    "### 2. Linear Model Results\n",
    "\n",
    "In order to calculate the inear model results, I will specify the formula of the linear equation. Then, by utilizing the ordinary least squares (ols) method of the smf module I have imported at the very beginning, I will define the statistical model and display the results."
   ]
  },
  {
   "cell_type": "markdown",
   "metadata": {},
   "source": [
    "**Note:** The formula needs to be a string, thus, we cannot use the variable names PV1, PV2 and OV. Please instead write the specific names of those three variables into the formula as strings. In case correct variable names are not written in the formula, the program will raise a NameError. <br /> \n",
    "**Note 2:** If the script is used with another dataset and the user forgets to change the formula, the program automatically raises a PatsyError because it cannot recognize the string values. I changed this into a NameError for the sake of clarity and added a helpful error message."
   ]
  },
  {
   "cell_type": "code",
   "execution_count": 70,
   "metadata": {},
   "outputs": [
    {
     "name": "stdout",
     "output_type": "stream",
     "text": [
      "                            OLS Regression Results                            \n",
      "==============================================================================\n",
      "Dep. Variable:             KillRating   R-squared:                       0.080\n",
      "Model:                            OLS   Adj. R-squared:                  0.075\n",
      "Method:                 Least Squares   F-statistic:                     15.10\n",
      "Date:                Fri, 10 Apr 2020   Prob (F-statistic):           5.18e-07\n",
      "Time:                        03:01:13   Log-Likelihood:                -841.99\n",
      "No. Observations:                 348   AIC:                             1690.\n",
      "Df Residuals:                     345   BIC:                             1702.\n",
      "Df Model:                           2                                         \n",
      "Covariance Type:            nonrobust                                         \n",
      "==================================================================================\n",
      "                     coef    std err          t      P>|t|      [0.025      0.975]\n",
      "----------------------------------------------------------------------------------\n",
      "Intercept          7.9454      0.254     31.327      0.000       7.447       8.444\n",
      "Disgust[T.low]    -0.7471      0.293     -2.551      0.011      -1.323      -0.171\n",
      "Fear[T.low]       -1.4253      0.293     -4.867      0.000      -2.001      -0.849\n",
      "==============================================================================\n",
      "Omnibus:                       24.495   Durbin-Watson:                   2.002\n",
      "Prob(Omnibus):                  0.000   Jarque-Bera (JB):               26.814\n",
      "Skew:                          -0.652   Prob(JB):                     1.50e-06\n",
      "Kurtosis:                       2.617   Cond. No.                         3.19\n",
      "==============================================================================\n",
      "\n",
      "Warnings:\n",
      "[1] Standard Errors assume that the covariance matrix of the errors is correctly specified.\n"
     ]
    }
   ],
   "source": [
    "try: \n",
    "    formula = 'KillRating ~ 1 + Disgust + Fear'\n",
    "    \n",
    "    model = smf.ols(formula, data = DF).fit()\n",
    "\n",
    "    print (model.summary())\n",
    "    \n",
    "except PatsyError:\n",
    "    \n",
    "    raise NameError (\" Please define a correct lineer model formula considering the names of variables in your dataframe. All names used in the formula should be present in the dataframe in order to be recognized as names.\")\n"
   ]
  },
  {
   "cell_type": "markdown",
   "metadata": {},
   "source": [
    "**SOOOO NOW what tf does that mean? R'2 is too small... not sig? but also sig bc p is very small and t's are ery high esp. high for fear.... as expectd....  DÖN** or not?"
   ]
  },
  {
   "cell_type": "markdown",
   "metadata": {},
   "source": [
    "### 3. Graphic Representation\n",
    "\n",
    "This is our final step. I need to represent each data point on a boxplot that is grouped by the PV's. To display each data point, I will draw a stripplot. In addition, I will also draw a boxplot and when run together, they will be displayed in a single graph.\n",
    "\n",
    "Additionally, I do not want the combined graphs to show two different legends, this would be redundant. We can extract the legend information from the plot object and specify one legend on the display, as explained by the following source. By limiting the legend with the index of **[0:2]**, I get only the necessary legends (indicating low and high Fear). \n",
    "\n",
    "**Q::::. # is it ok to give them the same name????\n",
    "\n",
    "\n",
    "*Source:* https://cmdlinetips.com/2019/03/how-to-make-grouped-boxplots-in-python-with-seaborn/ ;\n",
    "https://matplotlib.org/api/legend_api.html?highlight=legend#matplotlib.legend.Legend\n",
    "\n",
    "\n"
   ]
  },
  {
   "cell_type": "code",
   "execution_count": 46,
   "metadata": {},
   "outputs": [
    {
     "data": {
      "image/png": "[encoded data removed]",
      "text/plain": [
       "<Figure size 432x288 with 1 Axes>"
      ]
     },
     "metadata": {
      "needs_background": "light"
     },
     "output_type": "display_data"
    }
   ],
   "source": [
    "DF_plot = seaborn.boxplot(y = OV , x = PV1 ,\n",
    "                               data = DF,\n",
    "                               palette = \"bright\",\n",
    "                               hue = PV2)\n",
    "\n",
    "DF_plot = seaborn.stripplot(y = OV , x = PV1 ,\n",
    "                                   data = DF,\n",
    "                                   jitter = True,\n",
    "                                   dodge = True,\n",
    "                                   marker = 'o',\n",
    "                                   alpha = 0.5,\n",
    "                                   hue = PV2,\n",
    "                                   palette = \"bright\")\n",
    "\n",
    "handles, labels = DF_plot.get_legend_handles_labels()\n",
    "\n",
    "the_legend = plt.legend(handles[0:2], labels[0:2], title = PV2, loc = 8)\n"
   ]
  },
  {
   "cell_type": "markdown",
   "metadata": {},
   "source": [
    "\n",
    "ee?  METODLARI ACIKLA!!!!!"
   ]
  },
  {
   "cell_type": "markdown",
   "metadata": {},
   "source": [
    "### 4. Testing\n",
    "\n",
    "This is only to test whether we are currently operating in the main module. If so, the following will be printed to demonstrate variables in the dataframe. If this script has been imported, the following command won't run."
   ]
  },
  {
   "cell_type": "code",
   "execution_count": 68,
   "metadata": {},
   "outputs": [
    {
     "name": "stdout",
     "output_type": "stream",
     "text": [
      "The Predictor Variable 1 is:  Disgust , The Predictor Variable 2 is: Fear , and the Outcome Variable is:  KillRating\n"
     ]
    }
   ],
   "source": [
    "if __name__ == \"__main__\" :\n",
    "    print(\"The Predictor Variable 1 is: \", PV1, \", The Predictor Variable 2 is:\", PV2, \", and the Outcome Variable is: \", OV)\n",
    "    "
   ]
  },
  {
   "cell_type": "markdown",
   "metadata": {},
   "source": [
    "This was the last bit of my project. I hope you enjoyed reading it through.  <br />  Please do not hesitate to reach me at dyilmaz2014@gmail.com if you have any questions.  <br />  *Stay well and healthy!*   <br /> Best, Deniz\n",
    "\n"
   ]
  },
  {
   "cell_type": "code",
   "execution_count": null,
   "metadata": {},
   "outputs": [],
   "source": []
  }
 ],
 "metadata": {
  "kernelspec": {
   "display_name": "Python 3",
   "language": "python",
   "name": "python3"
  },
  "language_info": {
   "codemirror_mode": {
    "name": "ipython",
    "version": 3
   },
   "file_extension": ".py",
   "mimetype": "text/x-python",
   "name": "python",
   "nbconvert_exporter": "python",
   "pygments_lexer": "ipython3",
   "version": "3.7.4"
  }
 },
 "nbformat": 4,
 "nbformat_minor": 2
}
